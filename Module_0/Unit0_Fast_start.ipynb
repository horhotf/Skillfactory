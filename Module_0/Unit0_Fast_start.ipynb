{
 "cells": [
  {
   "cell_type": "code",
   "execution_count": null,
   "metadata": {},
   "outputs": [],
   "source": [
    "import numpy as np\n",
    "\n",
    "count = 0                           # счетчик попыток\n",
    "number = np.random.randint(1,101)   # загадали число\n",
    "    \n",
    "while True:                        # бесконечный цикл\n",
    "    predict = int(input())         # предполагаемое число\n",
    "    count += 1                     # плюсуем попытку\n",
    "    if number == predict: break    # выход из цикла, если угадали\n",
    "    elif number > predict: print (f\"Угадываемое число больше {predict} \")\n",
    "    elif number < predict: print (f\"Угадываемое число меньше {predict} \")\n",
    "            \n",
    "print (f\"Вы угадали число {number} за {count} попыток.\")    "
   ]
  },
  {
   "cell_type": "code",
   "execution_count": 157,
   "metadata": {},
   "outputs": [
    {
     "name": "stdout",
     "output_type": "stream",
     "text": [
      "Метод переставления границ | среднее:  8 , макс:  21 , мин:  1\n",
      "Метод дихотомии | среднее:  5 , макс:  7 , мин:  1\n",
      "Метод дихотомии и СЧ | среднее:  8 , :  21 , мин:  1\n"
     ]
    }
   ],
   "source": [
    "import numpy as np\n",
    "\n",
    "#метод по поиску значения методом переставления границы\n",
    "def game_core_set_border():\n",
    "    count = 1 # число попыток\n",
    "    number = np.random.randint(1,101)\n",
    "    up_border = 101 #установка верхней границы для генерации СЧ\n",
    "    down_border = 1 # установка нижней граница для генерации СЧ\n",
    "    \n",
    "    while True:\n",
    "        predict = np.random.randint(down_border,up_border) # предполагаемое число\n",
    "        if number == predict: break    # выход из цикла, если угадали\n",
    "        elif number > predict: down_border = predict # смещение нижней границы \n",
    "        elif number < predict: up_border = predict # смещение верхней границы \n",
    "        count +=1\n",
    "    \n",
    "    return count\n",
    "\n",
    "#метод поиска значения методом дихотомии\n",
    "def game_core_divide(): \n",
    "    count = 1 # число попыток\n",
    "    number = np.random.randint(1,101)\n",
    "    up_border = 101 #установка верхней границы для генерации СЧ\n",
    "    down_border = 1 # установка нижней граница для генерации СЧ\n",
    "    \n",
    "    while True:\n",
    "        predict = int((up_border+down_border)/2)  # предполагаемое число\n",
    "        if number == predict: break    # выход из цикла, если угадали\n",
    "        elif number > predict: \n",
    "            down_border = predict # смещение нижней границы \n",
    "        elif number < predict: \n",
    "            up_border = predict # смещение верхней границы \n",
    "        count +=1\n",
    "    \n",
    "    return count\n",
    "\n",
    "#метод поиска значения методом дихотомии и СЧ\n",
    "def game_core_divide_with_random(): \n",
    "    count = 1 # число попыток\n",
    "    number = np.random.randint(1,101)\n",
    "    up_border = 101 #установка верхней границы для генерации СЧ\n",
    "    down_border = 1 # установка нижней граница для генерации СЧ\n",
    "    \n",
    "    while True:\n",
    "        predict = np.random.randint(down_border,up_border) # предполагаемое число\n",
    "        if number == predict: break # выход из цикла, если угадали\n",
    "        elif number > predict: \n",
    "            down_border = predict # смещение нижней границы \n",
    "        elif number < predict: \n",
    "            up_border = predict # смещение верхней границы \n",
    "        count +=1\n",
    "    \n",
    "    return count\n",
    "\n",
    "\n",
    "# функция тестирования и расчета среднего значения количества попыток методов\n",
    "def score_game():\n",
    "    #масссивы результатов колличества попыток\n",
    "    count_array_border = [] # метода game_core_set_border():\n",
    "    count_array_divide = [] # метода game_core_divide(): \n",
    "    count_array_divide_with_random = [] # метода game_core_divide_with_random(): \n",
    "    \n",
    "    number_of_stars = 1000 # количество запусков\n",
    "    for number in range(1, number_of_stars+1):\n",
    "        count_array_border.append(game_core_set_border())\n",
    "        count_array_divide.append(game_core_divide())\n",
    "        count_array_divide_with_random.append(game_core_divide_with_random())\n",
    "    \n",
    "    #массив результатов экспериментов\n",
    "    results = []\n",
    "    results.append([int(sum(count_array_border) / len(count_array_border)), max(count_array_border), min(count_array_border)])\n",
    "    results.append([int(sum(count_array_divide) / len(count_array_divide)), max(count_array_divide), min(count_array_divide)])\n",
    "    results.append([int(sum(count_array_divide_with_random) / len(count_array_divide_with_random)), max(count_array_divide_with_random), min(count_array_divide_with_random)])\n",
    "    return (results)\n",
    "\n",
    "if __name__ == '__main__':\n",
    "    results = score_game()\n",
    "    print(\"Метод переставления границ | среднее: \", results[0][0], \", макс: \", results[0][1], \", мин: \", results[0][2])\n",
    "    print(\"Метод дихотомии | среднее: \", results[1][0], \", макс: \", results[1][1], \", мин: \", results[1][2])\n",
    "    print(\"Метод дихотомии и СЧ | среднее: \", results[2][0], \", : \", results[2][1], \", мин: \", results[2][2])\n",
    "                                                                                                                  \n"
   ]
  },
  {
   "cell_type": "code",
   "execution_count": 1,
   "metadata": {},
   "outputs": [
    {
     "name": "stdout",
     "output_type": "stream",
     "text": [
      "CPU times: user 5 µs, sys: 1 µs, total: 6 µs\n",
      "Wall time: 10 µs\n"
     ]
    }
   ],
   "source": [
    "time"
   ]
  },
  {
   "cell_type": "code",
   "execution_count": null,
   "metadata": {},
   "outputs": [],
   "source": []
  }
 ],
 "metadata": {
  "kernelspec": {
   "display_name": "Python 3",
   "language": "python",
   "name": "python3"
  },
  "language_info": {
   "codemirror_mode": {
    "name": "ipython",
    "version": 3
   },
   "file_extension": ".py",
   "mimetype": "text/x-python",
   "name": "python",
   "nbconvert_exporter": "python",
   "pygments_lexer": "ipython3",
   "version": "3.7.3"
  }
 },
 "nbformat": 4,
 "nbformat_minor": 2
}
