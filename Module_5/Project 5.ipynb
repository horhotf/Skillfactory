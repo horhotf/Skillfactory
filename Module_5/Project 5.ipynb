{
 "cells": [
  {
   "cell_type": "markdown",
   "id": "everyday-sympathy",
   "metadata": {},
   "source": [
    "...\n",
    "Данные проанализированы, графики построены, обучение запущено. Можно демонстрировать итоги работы. \n",
    "\n",
    "\\- Так-так, говоришь, модель уже готова? За один день? Ну показывай.\n",
    "\n",
    "Поначалу Коля явно был полон скептицизма. Спустя 10 минут недоверия в его голосе только прибавилось, но развязка оказалась крайне неожиданной для вас.\n",
    "\n",
    "\\- И данные тебе никто не помогал собирать и обрабатывать? И гиперпараметры ты применять умеешь? Хм... Устроим-ка тебе последнюю проверку. Вчера пришли новые данные из БКИ о кредитной истории клиентов. Даю тебе два дня. Можешь брать себе в помощники любого из нашего отдела, я предупрежу ребят. \n",
    "\n",
    "(с) Проект 5. Компьютер говорит «Нет»\n",
    "\n",
    "\n",
    "\n",
    "\n",
    "# Описание проекта\n",
    "### Задача \n",
    "Задача – построить наиболее эффективную модель кредитного скоринга для вторичных клиентов банка.\n",
    "\n",
    "Для решения задачи понадобится пройти следующие этапы:\n",
    "\n",
    "1. Первичный анализ данных\n",
    "2. Первичная обработка данных\n",
    "3. Наивная модель\n",
    "4. Подбор гиперпараметров\n",
    "5. Вторичная обработка данных\n",
    "6. Анализ значимости признаков\n",
    "7. Прочие модели\n",
    "\n",
    "### Описание полей\n",
    "- client_id - идентификатор клиента\n",
    "- education - уровень образования\n",
    "- sex - пол заемщика\n",
    "- age - возраст заемщика\n",
    "- car - флаг наличия автомобиля\n",
    "- car_type - флаг автомобиля иномарки\n",
    "- decline_app_cnt - количество отказанных прошлых заявок\n",
    "- good_work - флаг наличия “хорошей” работы\n",
    "- bki_request_cnt - количество запросов клиента в БКИ о своей кредитной истории\n",
    "- home_address - категоризатор домашнего адреса\n",
    "- work_address - категоризатор рабочего адреса\n",
    "- income - доход заемщика\n",
    "- foreign_passport - наличие загранпаспорта\n",
    "- sna - связь заемщика с клиентами банка\n",
    "- first_time - давность наличия информации о заемщике\n",
    "- score_bki - скоринговый балл по данным из БКИ\n",
    "- region_rating - рейтинг региона\n",
    "- app_date - дата подачи заявки\n",
    "- default - флаг дефолта по кредиту"
   ]
  },
  {
   "cell_type": "code",
   "execution_count": 1,
   "id": "fabulous-mambo",
   "metadata": {},
   "outputs": [],
   "source": [
    "import random\n",
    "\n",
    "from pandas import Series\n",
    "import pandas as pd\n",
    "import numpy as np\n",
    "\n",
    "\n",
    "import matplotlib.pyplot as plt\n",
    "import seaborn as sns\n",
    "\n",
    "from sklearn.feature_selection import f_classif, mutual_info_classif\n",
    "from sklearn.preprocessing import LabelEncoder, OneHotEncoder, StandardScaler\n",
    "\n",
    "from sklearn.model_selection import train_test_split\n",
    "from sklearn.linear_model import LogisticRegression\n",
    "\n",
    "from sklearn.metrics import confusion_matrix\n",
    "from sklearn.metrics import auc, roc_auc_score, roc_curve\n",
    "from sklearn.metrics import accuracy_score, precision_score, recall_score, f1_score, mean_squared_error\n",
    "\n",
    "\n",
    "RANDOM_SEED = 42"
   ]
  },
  {
   "cell_type": "code",
   "execution_count": 2,
   "id": "seventh-oxide",
   "metadata": {},
   "outputs": [],
   "source": [
    "data_dir = './'\n",
    "\n",
    "train = pd.read_csv(data_dir + 'train.csv')\n",
    "test = pd.read_csv(data_dir + 'test.csv')\n",
    "sample = pd.read_csv(data_dir + 'sample_submission.csv')\n",
    "\n"
   ]
  },
  {
   "cell_type": "code",
   "execution_count": 3,
   "id": "handy-slave",
   "metadata": {},
   "outputs": [],
   "source": [
    "def train_model(model, X, y):\n",
    "    X_train, X_valid, y_train, y_valid = train_test_split(X, y, random_state=RANDOM_SEED, test_size=0.3)\n",
    "    \n",
    "    model.fit(X_train, y_train)\n",
    "    probs = model.predict_proba(X_valid)[:, 1]\n",
    "    y_pred = model.predict(X_valid)\n",
    "    \n",
    "    print('accuracy_score: ', accuracy_score(y_valid, y_pred))\n",
    "    print('f1_score: ', f1_score(y_valid, y_pred))\n",
    "    print('recall_score: ', recall_score(y_valid, y_pred))\n",
    "    print('MSE: ', mean_squared_error(y_valid, y_pred))\n",
    "    print('roc_auc_score: ', roc_auc_score(y_valid, probs))"
   ]
  },
  {
   "cell_type": "markdown",
   "id": "electoral-payroll",
   "metadata": {},
   "source": [
    "### 1. Первичный анализ данных"
   ]
  },
  {
   "cell_type": "code",
   "execution_count": 4,
   "id": "micro-optics",
   "metadata": {
    "scrolled": true
   },
   "outputs": [
    {
     "name": "stdout",
     "output_type": "stream",
     "text": [
      "<class 'pandas.core.frame.DataFrame'>\n",
      "RangeIndex: 73799 entries, 0 to 73798\n",
      "Data columns (total 19 columns):\n",
      " #   Column            Non-Null Count  Dtype  \n",
      "---  ------            --------------  -----  \n",
      " 0   client_id         73799 non-null  int64  \n",
      " 1   app_date          73799 non-null  object \n",
      " 2   education         73492 non-null  object \n",
      " 3   sex               73799 non-null  object \n",
      " 4   age               73799 non-null  int64  \n",
      " 5   car               73799 non-null  object \n",
      " 6   car_type          73799 non-null  object \n",
      " 7   decline_app_cnt   73799 non-null  int64  \n",
      " 8   good_work         73799 non-null  int64  \n",
      " 9   score_bki         73799 non-null  float64\n",
      " 10  bki_request_cnt   73799 non-null  int64  \n",
      " 11  region_rating     73799 non-null  int64  \n",
      " 12  home_address      73799 non-null  int64  \n",
      " 13  work_address      73799 non-null  int64  \n",
      " 14  income            73799 non-null  int64  \n",
      " 15  sna               73799 non-null  int64  \n",
      " 16  first_time        73799 non-null  int64  \n",
      " 17  foreign_passport  73799 non-null  object \n",
      " 18  default           73799 non-null  int64  \n",
      "dtypes: float64(1), int64(12), object(6)\n",
      "memory usage: 10.7+ MB\n"
     ]
    }
   ],
   "source": [
    "train.info()"
   ]
  },
  {
   "cell_type": "code",
   "execution_count": 5,
   "id": "fluid-memorial",
   "metadata": {},
   "outputs": [
    {
     "name": "stdout",
     "output_type": "stream",
     "text": [
      "<class 'pandas.core.frame.DataFrame'>\n",
      "RangeIndex: 36349 entries, 0 to 36348\n",
      "Data columns (total 18 columns):\n",
      " #   Column            Non-Null Count  Dtype  \n",
      "---  ------            --------------  -----  \n",
      " 0   client_id         36349 non-null  int64  \n",
      " 1   app_date          36349 non-null  object \n",
      " 2   education         36178 non-null  object \n",
      " 3   sex               36349 non-null  object \n",
      " 4   age               36349 non-null  int64  \n",
      " 5   car               36349 non-null  object \n",
      " 6   car_type          36349 non-null  object \n",
      " 7   decline_app_cnt   36349 non-null  int64  \n",
      " 8   good_work         36349 non-null  int64  \n",
      " 9   score_bki         36349 non-null  float64\n",
      " 10  bki_request_cnt   36349 non-null  int64  \n",
      " 11  region_rating     36349 non-null  int64  \n",
      " 12  home_address      36349 non-null  int64  \n",
      " 13  work_address      36349 non-null  int64  \n",
      " 14  income            36349 non-null  int64  \n",
      " 15  sna               36349 non-null  int64  \n",
      " 16  first_time        36349 non-null  int64  \n",
      " 17  foreign_passport  36349 non-null  object \n",
      "dtypes: float64(1), int64(11), object(6)\n",
      "memory usage: 5.0+ MB\n"
     ]
    }
   ],
   "source": [
    "test.info()"
   ]
  },
  {
   "cell_type": "code",
   "execution_count": 6,
   "id": "musical-seating",
   "metadata": {},
   "outputs": [
    {
     "name": "stdout",
     "output_type": "stream",
     "text": [
      "<class 'pandas.core.frame.DataFrame'>\n",
      "RangeIndex: 24354 entries, 0 to 24353\n",
      "Data columns (total 2 columns):\n",
      " #   Column     Non-Null Count  Dtype  \n",
      "---  ------     --------------  -----  \n",
      " 0   client_id  24354 non-null  int64  \n",
      " 1   default    24354 non-null  float64\n",
      "dtypes: float64(1), int64(1)\n",
      "memory usage: 380.7 KB\n"
     ]
    }
   ],
   "source": [
    "sample.info()"
   ]
  },
  {
   "cell_type": "markdown",
   "id": "under-feelings",
   "metadata": {},
   "source": [
    "Осмотрим и заполним пропуски education"
   ]
  },
  {
   "cell_type": "code",
   "execution_count": 7,
   "id": "religious-closing",
   "metadata": {},
   "outputs": [
    {
     "data": {
      "text/plain": [
       "SCH    38860\n",
       "GRD    23365\n",
       "UGR     9816\n",
       "PGR     1257\n",
       "ACD      194\n",
       "Name: education, dtype: int64"
      ]
     },
     "execution_count": 7,
     "metadata": {},
     "output_type": "execute_result"
    }
   ],
   "source": [
    "train.education.value_counts()"
   ]
  },
  {
   "cell_type": "code",
   "execution_count": 8,
   "id": "simple-liberal",
   "metadata": {},
   "outputs": [],
   "source": [
    "def replace_nan(df, col):\n",
    "    if (df[col].dtypes == np.dtype('O')):\n",
    "        prob = df[col].value_counts(normalize = True)\n",
    "        ind = df[df[col].isna()==True].index\n",
    "        fill_list = pd.Series(random.choices(prob.index, prob, k=df[col].isna().sum()))\n",
    "        fill_list.index = ind\n",
    "        return df[col].fillna(fill_list)\n",
    "    else:\n",
    "        median = df[col].median()\n",
    "        return df[col].fillna(median)\n",
    "\n",
    "#train['education'] = replace_nan(train, 'education')"
   ]
  },
  {
   "cell_type": "markdown",
   "id": "rough-quick",
   "metadata": {},
   "source": [
    "Посмотрим подробнее на колонки."
   ]
  },
  {
   "cell_type": "code",
   "execution_count": 9,
   "id": "isolated-flooring",
   "metadata": {},
   "outputs": [
    {
     "data": {
      "text/plain": [
       "2049      1\n",
       "85187     1\n",
       "85507     1\n",
       "83458     1\n",
       "87552     1\n",
       "         ..\n",
       "101156    1\n",
       "107297    1\n",
       "109344    1\n",
       "21279     1\n",
       "6141      1\n",
       "Name: client_id, Length: 73799, dtype: int64"
      ]
     },
     "execution_count": 9,
     "metadata": {},
     "output_type": "execute_result"
    }
   ],
   "source": [
    "train.client_id.value_counts()"
   ]
  },
  {
   "cell_type": "markdown",
   "id": "breeding-strike",
   "metadata": {},
   "source": [
    "Повторов нет."
   ]
  },
  {
   "cell_type": "code",
   "execution_count": 10,
   "id": "several-asian",
   "metadata": {},
   "outputs": [
    {
     "data": {
      "text/plain": [
       "18MAR2014    1018\n",
       "17MAR2014     911\n",
       "19MAR2014     909\n",
       "31MAR2014     904\n",
       "07APR2014     882\n",
       "             ... \n",
       "20APR2014     243\n",
       "07JAN2014     228\n",
       "03JAN2014     193\n",
       "02JAN2014     137\n",
       "01JAN2014      43\n",
       "Name: app_date, Length: 120, dtype: int64"
      ]
     },
     "execution_count": 10,
     "metadata": {},
     "output_type": "execute_result"
    }
   ],
   "source": [
    "train.app_date.value_counts()"
   ]
  },
  {
   "cell_type": "markdown",
   "id": "earlier-equivalent",
   "metadata": {},
   "source": [
    "Интересная колонка. Надо будет из нее извлечь дни, месяцы, год заявки"
   ]
  },
  {
   "cell_type": "code",
   "execution_count": 11,
   "id": "federal-evidence",
   "metadata": {},
   "outputs": [
    {
     "data": {
      "text/plain": [
       "SCH    38860\n",
       "GRD    23365\n",
       "UGR     9816\n",
       "PGR     1257\n",
       "ACD      194\n",
       "Name: education, dtype: int64"
      ]
     },
     "execution_count": 11,
     "metadata": {},
     "output_type": "execute_result"
    }
   ],
   "source": [
    "train.education.value_counts()"
   ]
  },
  {
   "cell_type": "markdown",
   "id": "sustainable-special",
   "metadata": {},
   "source": [
    "Категориальная переменная."
   ]
  },
  {
   "cell_type": "code",
   "execution_count": 12,
   "id": "renewable-courage",
   "metadata": {},
   "outputs": [
    {
     "data": {
      "text/plain": [
       "<AxesSubplot:xlabel='education', ylabel='count'>"
      ]
     },
     "execution_count": 12,
     "metadata": {},
     "output_type": "execute_result"
    },
    {
     "data": {
      "image/png": "[encoded data removed]",
      "text/plain": [
       "<Figure size 432x288 with 1 Axes>"
      ]
     },
     "metadata": {
      "needs_background": "light"
     },
     "output_type": "display_data"
    }
   ],
   "source": [
    "sns.countplot(x='education', data=train)"
   ]
  },
  {
   "cell_type": "code",
   "execution_count": 13,
   "id": "smaller-westminster",
   "metadata": {},
   "outputs": [
    {
     "data": {
      "text/plain": [
       "F    41562\n",
       "M    32237\n",
       "Name: sex, dtype: int64"
      ]
     },
     "execution_count": 13,
     "metadata": {},
     "output_type": "execute_result"
    }
   ],
   "source": [
    "train.sex.value_counts()"
   ]
  },
  {
   "cell_type": "markdown",
   "id": "rapid-hawaii",
   "metadata": {},
   "source": [
    "Бинарная переменная."
   ]
  },
  {
   "cell_type": "code",
   "execution_count": 14,
   "id": "normal-apollo",
   "metadata": {},
   "outputs": [
    {
     "data": {
      "text/plain": [
       "31    2727\n",
       "28    2705\n",
       "30    2693\n",
       "29    2659\n",
       "27    2645\n",
       "26    2528\n",
       "32    2501\n",
       "34    2395\n",
       "33    2314\n",
       "35    2259\n",
       "25    2202\n",
       "36    2159\n",
       "37    2118\n",
       "38    2088\n",
       "39    2082\n",
       "42    1973\n",
       "40    1932\n",
       "24    1873\n",
       "41    1857\n",
       "43    1770\n",
       "44    1690\n",
       "23    1509\n",
       "45    1487\n",
       "50    1424\n",
       "47    1418\n",
       "46    1407\n",
       "48    1404\n",
       "52    1387\n",
       "51    1385\n",
       "53    1326\n",
       "54    1326\n",
       "49    1304\n",
       "55    1230\n",
       "56    1114\n",
       "57    1040\n",
       "22     937\n",
       "59     925\n",
       "58     881\n",
       "60     851\n",
       "21     849\n",
       "61     661\n",
       "62     576\n",
       "63     477\n",
       "64     449\n",
       "65     422\n",
       "66     309\n",
       "67     248\n",
       "68     165\n",
       "69      81\n",
       "70      32\n",
       "71       3\n",
       "72       2\n",
       "Name: age, dtype: int64"
      ]
     },
     "execution_count": 14,
     "metadata": {},
     "output_type": "execute_result"
    }
   ],
   "source": [
    "train.age.value_counts()"
   ]
  },
  {
   "cell_type": "code",
   "execution_count": 15,
   "id": "recent-charleston",
   "metadata": {},
   "outputs": [
    {
     "data": {
      "text/plain": [
       "<AxesSubplot:xlabel='age', ylabel='count'>"
      ]
     },
     "execution_count": 15,
     "metadata": {},
     "output_type": "execute_result"
    },
    {
     "data": {
      "image/png": "[encoded data removed]",
      "text/plain": [
       "<Figure size 432x288 with 1 Axes>"
      ]
     },
     "metadata": {
      "needs_background": "light"
     },
     "output_type": "display_data"
    }
   ],
   "source": [
    "sns.countplot(x='age', data=train)"
   ]
  },
  {
   "cell_type": "markdown",
   "id": "included-trunk",
   "metadata": {},
   "source": [
    "Числовая переменная."
   ]
  },
  {
   "cell_type": "code",
   "execution_count": 16,
   "id": "worldwide-private",
   "metadata": {},
   "outputs": [
    {
     "data": {
      "text/plain": [
       "N    49832\n",
       "Y    23967\n",
       "Name: car, dtype: int64"
      ]
     },
     "execution_count": 16,
     "metadata": {},
     "output_type": "execute_result"
    }
   ],
   "source": [
    "train.car.value_counts()"
   ]
  },
  {
   "cell_type": "markdown",
   "id": "minute-pledge",
   "metadata": {},
   "source": [
    "Бинарная переменная."
   ]
  },
  {
   "cell_type": "code",
   "execution_count": 17,
   "id": "elder-freeware",
   "metadata": {},
   "outputs": [
    {
     "data": {
      "text/plain": [
       "N    59791\n",
       "Y    14008\n",
       "Name: car_type, dtype: int64"
      ]
     },
     "execution_count": 17,
     "metadata": {},
     "output_type": "execute_result"
    }
   ],
   "source": [
    "train.car_type.value_counts()"
   ]
  },
  {
   "cell_type": "markdown",
   "id": "tight-resistance",
   "metadata": {},
   "source": [
    "Бинарная переменная."
   ]
  },
  {
   "cell_type": "code",
   "execution_count": 18,
   "id": "frank-jersey",
   "metadata": {},
   "outputs": [
    {
     "data": {
      "text/plain": [
       "0     61214\n",
       "1      8397\n",
       "2      2468\n",
       "3       903\n",
       "4       414\n",
       "5       165\n",
       "6       113\n",
       "7        48\n",
       "9        24\n",
       "8        19\n",
       "10       11\n",
       "11        9\n",
       "13        3\n",
       "12        2\n",
       "14        2\n",
       "16        2\n",
       "15        1\n",
       "19        1\n",
       "22        1\n",
       "24        1\n",
       "33        1\n",
       "Name: decline_app_cnt, dtype: int64"
      ]
     },
     "execution_count": 18,
     "metadata": {},
     "output_type": "execute_result"
    }
   ],
   "source": [
    "train.decline_app_cnt.value_counts()"
   ]
  },
  {
   "cell_type": "code",
   "execution_count": 19,
   "id": "convinced-summary",
   "metadata": {},
   "outputs": [
    {
     "data": {
      "text/plain": [
       "<AxesSubplot:xlabel='decline_app_cnt', ylabel='count'>"
      ]
     },
     "execution_count": 19,
     "metadata": {},
     "output_type": "execute_result"
    },
    {
     "data": {
      "image/png": "[encoded data removed]",
      "text/plain": [
       "<Figure size 432x288 with 1 Axes>"
      ]
     },
     "metadata": {
      "needs_background": "light"
     },
     "output_type": "display_data"
    }
   ],
   "source": [
    "sns.countplot(x='decline_app_cnt', data=train)"
   ]
  },
  {
   "cell_type": "markdown",
   "id": "aggregate-worcester",
   "metadata": {},
   "source": [
    "Числовая переменная. Длинный хвост справа"
   ]
  },
  {
   "cell_type": "code",
   "execution_count": 20,
   "id": "subtle-assistant",
   "metadata": {},
   "outputs": [
    {
     "data": {
      "text/plain": [
       "0    61630\n",
       "1    12169\n",
       "Name: good_work, dtype: int64"
      ]
     },
     "execution_count": 20,
     "metadata": {},
     "output_type": "execute_result"
    }
   ],
   "source": [
    "train.good_work.value_counts()"
   ]
  },
  {
   "cell_type": "markdown",
   "id": "acute-cuisine",
   "metadata": {},
   "source": [
    "Бинарная переменная."
   ]
  },
  {
   "cell_type": "code",
   "execution_count": 21,
   "id": "peripheral-speech",
   "metadata": {},
   "outputs": [
    {
     "data": {
      "text/plain": [
       "-1.775263    352\n",
       "-2.225004    296\n",
       "-2.104211    288\n",
       "-2.169664    258\n",
       "-1.920823    185\n",
       "            ... \n",
       "-1.400832      1\n",
       "-1.824425      1\n",
       "-2.081890      1\n",
       "-2.216073      1\n",
       "-2.296371      1\n",
       "Name: score_bki, Length: 69096, dtype: int64"
      ]
     },
     "execution_count": 21,
     "metadata": {},
     "output_type": "execute_result"
    }
   ],
   "source": [
    "train.score_bki.value_counts()"
   ]
  },
  {
   "cell_type": "code",
   "execution_count": 22,
   "id": "serious-favorite",
   "metadata": {},
   "outputs": [
    {
     "data": {
      "text/plain": [
       "<AxesSubplot:>"
      ]
     },
     "execution_count": 22,
     "metadata": {},
     "output_type": "execute_result"
    },
    {
     "data": {
      "image/png": "[encoded data removed]",
      "text/plain": [
       "<Figure size 432x288 with 1 Axes>"
      ]
     },
     "metadata": {
      "needs_background": "light"
     },
     "output_type": "display_data"
    }
   ],
   "source": [
    "train.score_bki.hist(bins=100)"
   ]
  },
  {
   "cell_type": "code",
   "execution_count": 23,
   "id": "opponent-former",
   "metadata": {},
   "outputs": [
    {
     "data": {
      "text/plain": [
       "-1.9047236272216417"
      ]
     },
     "execution_count": 23,
     "metadata": {},
     "output_type": "execute_result"
    }
   ],
   "source": [
    "train.score_bki.mean()"
   ]
  },
  {
   "cell_type": "markdown",
   "id": "distinguished-hundred",
   "metadata": {},
   "source": [
    "Числовая переменная. Предварительно обработана. Матожидание где-то в районе -2 (среднее в -1.9)"
   ]
  },
  {
   "cell_type": "code",
   "execution_count": 24,
   "id": "olive-nudist",
   "metadata": {},
   "outputs": [
    {
     "data": {
      "text/plain": [
       "0     19381\n",
       "1     18276\n",
       "2     13749\n",
       "3      9187\n",
       "4      5627\n",
       "5      3268\n",
       "6      1704\n",
       "7       852\n",
       "8       508\n",
       "9       299\n",
       "10      225\n",
       "11      188\n",
       "12      144\n",
       "13       94\n",
       "14       86\n",
       "15       54\n",
       "16       35\n",
       "18       22\n",
       "17       19\n",
       "19       18\n",
       "21       12\n",
       "24       11\n",
       "20        9\n",
       "23        7\n",
       "22        4\n",
       "28        4\n",
       "25        2\n",
       "26        2\n",
       "27        2\n",
       "32        2\n",
       "41        1\n",
       "46        1\n",
       "45        1\n",
       "29        1\n",
       "36        1\n",
       "34        1\n",
       "33        1\n",
       "53        1\n",
       "Name: bki_request_cnt, dtype: int64"
      ]
     },
     "execution_count": 24,
     "metadata": {},
     "output_type": "execute_result"
    }
   ],
   "source": [
    "train.bki_request_cnt.value_counts()"
   ]
  },
  {
   "cell_type": "code",
   "execution_count": 25,
   "id": "proper-bhutan",
   "metadata": {},
   "outputs": [
    {
     "data": {
      "text/plain": [
       "<AxesSubplot:xlabel='bki_request_cnt', ylabel='count'>"
      ]
     },
     "execution_count": 25,
     "metadata": {},
     "output_type": "execute_result"
    },
    {
     "data": {
      "image/png": "[encoded data removed]",
      "text/plain": [
       "<Figure size 432x288 with 1 Axes>"
      ]
     },
     "metadata": {
      "needs_background": "light"
     },
     "output_type": "display_data"
    }
   ],
   "source": [
    "sns.countplot(x='bki_request_cnt', data=train)"
   ]
  },
  {
   "cell_type": "markdown",
   "id": "adjusted-smile",
   "metadata": {},
   "source": [
    "Числовая переменная. И вновь хвост справа"
   ]
  },
  {
   "cell_type": "code",
   "execution_count": 26,
   "id": "pressing-cause",
   "metadata": {
    "scrolled": true
   },
   "outputs": [
    {
     "data": {
      "text/plain": [
       "50    27523\n",
       "60    16075\n",
       "40    12027\n",
       "80    11469\n",
       "70     6199\n",
       "30      300\n",
       "20      206\n",
       "Name: region_rating, dtype: int64"
      ]
     },
     "execution_count": 26,
     "metadata": {},
     "output_type": "execute_result"
    }
   ],
   "source": [
    "train.region_rating.value_counts()"
   ]
  },
  {
   "cell_type": "code",
   "execution_count": 27,
   "id": "educational-alaska",
   "metadata": {},
   "outputs": [
    {
     "data": {
      "text/plain": [
       "<AxesSubplot:xlabel='region_rating', ylabel='count'>"
      ]
     },
     "execution_count": 27,
     "metadata": {},
     "output_type": "execute_result"
    },
    {
     "data": {
      "image/png": "[encoded data removed]",
      "text/plain": [
       "<Figure size 432x288 with 1 Axes>"
      ]
     },
     "metadata": {
      "needs_background": "light"
     },
     "output_type": "display_data"
    }
   ],
   "source": [
    "sns.countplot(x='region_rating', data=train)"
   ]
  },
  {
   "cell_type": "markdown",
   "id": "diverse-primary",
   "metadata": {},
   "source": [
    "Категориальная переменная. Предварительно закодирована"
   ]
  },
  {
   "cell_type": "code",
   "execution_count": 28,
   "id": "mysterious-volume",
   "metadata": {},
   "outputs": [
    {
     "data": {
      "text/plain": [
       "2    39956\n",
       "1    32585\n",
       "3     1258\n",
       "Name: home_address, dtype: int64"
      ]
     },
     "execution_count": 28,
     "metadata": {},
     "output_type": "execute_result"
    }
   ],
   "source": [
    "train.home_address.value_counts()"
   ]
  },
  {
   "cell_type": "code",
   "execution_count": 29,
   "id": "governmental-tiger",
   "metadata": {},
   "outputs": [
    {
     "data": {
      "text/plain": [
       "<AxesSubplot:xlabel='home_address', ylabel='count'>"
      ]
     },
     "execution_count": 29,
     "metadata": {},
     "output_type": "execute_result"
    },
    {
     "data": {
      "image/png": "[encoded data removed]",
      "text/plain": [
       "<Figure size 432x288 with 1 Axes>"
      ]
     },
     "metadata": {
      "needs_background": "light"
     },
     "output_type": "display_data"
    }
   ],
   "source": [
    "sns.countplot(x='home_address', data=train)"
   ]
  },
  {
   "cell_type": "markdown",
   "id": "protected-hopkins",
   "metadata": {},
   "source": [
    "Категориальная переменная. "
   ]
  },
  {
   "cell_type": "code",
   "execution_count": 30,
   "id": "bridal-johnson",
   "metadata": {},
   "outputs": [
    {
     "data": {
      "text/plain": [
       "3    44959\n",
       "2    20506\n",
       "1     8334\n",
       "Name: work_address, dtype: int64"
      ]
     },
     "execution_count": 30,
     "metadata": {},
     "output_type": "execute_result"
    }
   ],
   "source": [
    "train.work_address.value_counts()"
   ]
  },
  {
   "cell_type": "code",
   "execution_count": 31,
   "id": "present-delta",
   "metadata": {},
   "outputs": [
    {
     "data": {
      "text/plain": [
       "<AxesSubplot:xlabel='work_address', ylabel='count'>"
      ]
     },
     "execution_count": 31,
     "metadata": {},
     "output_type": "execute_result"
    },
    {
     "data": {
      "image/png": "[encoded data removed]",
      "text/plain": [
       "<Figure size 432x288 with 1 Axes>"
      ]
     },
     "metadata": {
      "needs_background": "light"
     },
     "output_type": "display_data"
    }
   ],
   "source": [
    "sns.countplot(x='work_address', data=train)"
   ]
  },
  {
   "cell_type": "markdown",
   "id": "prerequisite-endorsement",
   "metadata": {},
   "source": [
    "Категориальная переменная. "
   ]
  },
  {
   "cell_type": "code",
   "execution_count": 32,
   "id": "aggressive-sigma",
   "metadata": {},
   "outputs": [
    {
     "data": {
      "text/plain": [
       "30000     7009\n",
       "25000     6061\n",
       "20000     5471\n",
       "40000     4935\n",
       "50000     4470\n",
       "          ... \n",
       "30059        1\n",
       "85260        1\n",
       "60600        1\n",
       "208000       1\n",
       "426000       1\n",
       "Name: income, Length: 966, dtype: int64"
      ]
     },
     "execution_count": 32,
     "metadata": {},
     "output_type": "execute_result"
    }
   ],
   "source": [
    "train.income.value_counts()"
   ]
  },
  {
   "cell_type": "code",
   "execution_count": 33,
   "id": "drawn-maldives",
   "metadata": {},
   "outputs": [
    {
     "data": {
      "text/plain": [
       "<AxesSubplot:>"
      ]
     },
     "execution_count": 33,
     "metadata": {},
     "output_type": "execute_result"
    },
    {
     "data": {
      "image/png": "[encoded data removed]",
      "text/plain": [
       "<Figure size 432x288 with 1 Axes>"
      ]
     },
     "metadata": {
      "needs_background": "light"
     },
     "output_type": "display_data"
    }
   ],
   "source": [
    "train.income.hist(bins=100)"
   ]
  },
  {
   "cell_type": "markdown",
   "id": "neutral-brazilian",
   "metadata": {},
   "source": [
    "Числовая переменная с длинным хвостом справа"
   ]
  },
  {
   "cell_type": "code",
   "execution_count": 34,
   "id": "theoretical-nickname",
   "metadata": {},
   "outputs": [
    {
     "data": {
      "text/plain": [
       "1    47301\n",
       "4    11749\n",
       "2    10626\n",
       "3     4123\n",
       "Name: sna, dtype: int64"
      ]
     },
     "execution_count": 34,
     "metadata": {},
     "output_type": "execute_result"
    }
   ],
   "source": [
    "train.sna.value_counts()"
   ]
  },
  {
   "cell_type": "code",
   "execution_count": 35,
   "id": "hungry-brooklyn",
   "metadata": {},
   "outputs": [
    {
     "data": {
      "text/plain": [
       "<AxesSubplot:xlabel='sna', ylabel='count'>"
      ]
     },
     "execution_count": 35,
     "metadata": {},
     "output_type": "execute_result"
    },
    {
     "data": {
      "image/png": "[encoded data removed]",
      "text/plain": [
       "<Figure size 432x288 with 1 Axes>"
      ]
     },
     "metadata": {
      "needs_background": "light"
     },
     "output_type": "display_data"
    }
   ],
   "source": [
    "sns.countplot(x='sna', data=train)"
   ]
  },
  {
   "cell_type": "markdown",
   "id": "widespread-ambassador",
   "metadata": {},
   "source": [
    "Категориальная переменная. Предварительно закодирована"
   ]
  },
  {
   "cell_type": "code",
   "execution_count": 36,
   "id": "statewide-extreme",
   "metadata": {},
   "outputs": [
    {
     "data": {
      "text/plain": [
       "3    31255\n",
       "4    18737\n",
       "1    12239\n",
       "2    11568\n",
       "Name: first_time, dtype: int64"
      ]
     },
     "execution_count": 36,
     "metadata": {},
     "output_type": "execute_result"
    }
   ],
   "source": [
    "train.first_time.value_counts()"
   ]
  },
  {
   "cell_type": "code",
   "execution_count": 37,
   "id": "split-portfolio",
   "metadata": {},
   "outputs": [
    {
     "data": {
      "text/plain": [
       "<AxesSubplot:xlabel='first_time', ylabel='count'>"
      ]
     },
     "execution_count": 37,
     "metadata": {},
     "output_type": "execute_result"
    },
    {
     "data": {
      "image/png": "[encoded data removed]",
      "text/plain": [
       "<Figure size 432x288 with 1 Axes>"
      ]
     },
     "metadata": {
      "needs_background": "light"
     },
     "output_type": "display_data"
    }
   ],
   "source": [
    "sns.countplot(x='first_time', data=train)"
   ]
  },
  {
   "cell_type": "markdown",
   "id": "bizarre-situation",
   "metadata": {},
   "source": [
    "Категориальная переменная. Предварительно закодирована"
   ]
  },
  {
   "cell_type": "code",
   "execution_count": 38,
   "id": "separate-wages",
   "metadata": {},
   "outputs": [
    {
     "data": {
      "text/plain": [
       "N    62733\n",
       "Y    11066\n",
       "Name: foreign_passport, dtype: int64"
      ]
     },
     "execution_count": 38,
     "metadata": {},
     "output_type": "execute_result"
    }
   ],
   "source": [
    "train.foreign_passport.value_counts()"
   ]
  },
  {
   "cell_type": "code",
   "execution_count": 39,
   "id": "certain-harbor",
   "metadata": {},
   "outputs": [
    {
     "data": {
      "text/plain": [
       "<AxesSubplot:xlabel='foreign_passport', ylabel='count'>"
      ]
     },
     "execution_count": 39,
     "metadata": {},
     "output_type": "execute_result"
    },
    {
     "data": {
      "image/png": "[encoded data removed]",
      "text/plain": [
       "<Figure size 432x288 with 1 Axes>"
      ]
     },
     "metadata": {
      "needs_background": "light"
     },
     "output_type": "display_data"
    }
   ],
   "source": [
    "sns.countplot(x='foreign_passport', data=train)"
   ]
  },
  {
   "cell_type": "markdown",
   "id": "sticky-juvenile",
   "metadata": {},
   "source": [
    "Бинарная переменная."
   ]
  },
  {
   "cell_type": "code",
   "execution_count": 40,
   "id": "appointed-compromise",
   "metadata": {},
   "outputs": [
    {
     "data": {
      "text/plain": [
       "0    64427\n",
       "1     9372\n",
       "Name: default, dtype: int64"
      ]
     },
     "execution_count": 40,
     "metadata": {},
     "output_type": "execute_result"
    }
   ],
   "source": [
    "train.default.value_counts()"
   ]
  },
  {
   "cell_type": "markdown",
   "id": "expired-silver",
   "metadata": {},
   "source": [
    "Данных об одном классе из целевой переменной значительно больше, чем о втором, этот дисбаланс надо будет иметь в виду.\n",
    "\n",
    "Итого имеем следующее разделение на бинарные, категориальные и числовые значения (помним, что еще есть колонка app_date):"
   ]
  },
  {
   "cell_type": "code",
   "execution_count": 41,
   "id": "alternate-distinction",
   "metadata": {},
   "outputs": [],
   "source": [
    "\n",
    "\n",
    "bin_cols = ['sex','car', 'car_type', 'foreign_passport', 'good_work']\n",
    "cat_cols = ['education', 'home_address','work_address', 'sna', 'first_time']\n",
    "num_cols = ['age', 'decline_app_cnt', 'income', 'bki_request_cnt', 'region_rating', 'score_bki']\n",
    "\n",
    "#app_date"
   ]
  },
  {
   "cell_type": "markdown",
   "id": "linear-business",
   "metadata": {},
   "source": [
    "### 2. Первичная обработка данных"
   ]
  },
  {
   "cell_type": "markdown",
   "id": "stone-second",
   "metadata": {},
   "source": [
    "Для корректной обработки признаков объединяем train и test в один датасет\n",
    "\n",
    "В тестовых данных отсутствуют значения default, поэтому пока заполняем константой"
   ]
  },
  {
   "cell_type": "code",
   "execution_count": 42,
   "id": "fiscal-huntington",
   "metadata": {},
   "outputs": [
    {
     "name": "stdout",
     "output_type": "stream",
     "text": [
      "<class 'pandas.core.frame.DataFrame'>\n",
      "RangeIndex: 110148 entries, 0 to 110147\n",
      "Data columns (total 20 columns):\n",
      " #   Column            Non-Null Count   Dtype  \n",
      "---  ------            --------------   -----  \n",
      " 0   client_id         110148 non-null  int64  \n",
      " 1   app_date          110148 non-null  object \n",
      " 2   education         109670 non-null  object \n",
      " 3   sex               110148 non-null  object \n",
      " 4   age               110148 non-null  int64  \n",
      " 5   car               110148 non-null  object \n",
      " 6   car_type          110148 non-null  object \n",
      " 7   decline_app_cnt   110148 non-null  int64  \n",
      " 8   good_work         110148 non-null  int64  \n",
      " 9   score_bki         110148 non-null  float64\n",
      " 10  bki_request_cnt   110148 non-null  int64  \n",
      " 11  region_rating     110148 non-null  int64  \n",
      " 12  home_address      110148 non-null  int64  \n",
      " 13  work_address      110148 non-null  int64  \n",
      " 14  income            110148 non-null  int64  \n",
      " 15  sna               110148 non-null  int64  \n",
      " 16  first_time        110148 non-null  int64  \n",
      " 17  foreign_passport  110148 non-null  object \n",
      " 18  default           110148 non-null  int64  \n",
      " 19  sample            110148 non-null  int64  \n",
      "dtypes: float64(1), int64(13), object(6)\n",
      "memory usage: 16.8+ MB\n"
     ]
    }
   ],
   "source": [
    "train['sample'] = 1   # помечаем тренировочные данные\n",
    "test['sample'] = 0    # помечаем тестовые данные\n",
    "\n",
    "test['default'] = -1\n",
    "\n",
    "df = pd.concat([train, test], ignore_index=True)\n",
    "df.info()"
   ]
  },
  {
   "cell_type": "markdown",
   "id": "dynamic-major",
   "metadata": {},
   "source": [
    "Бинарные колонки кодируем при помощи LabelEncoder"
   ]
  },
  {
   "cell_type": "code",
   "execution_count": 43,
   "id": "maritime-player",
   "metadata": {
    "scrolled": false
   },
   "outputs": [
    {
     "data": {
      "text/html": [
       "<div>\n",
       "<style scoped>\n",
       "    .dataframe tbody tr th:only-of-type {\n",
       "        vertical-align: middle;\n",
       "    }\n",
       "\n",
       "    .dataframe tbody tr th {\n",
       "        vertical-align: top;\n",
       "    }\n",
       "\n",
       "    .dataframe thead th {\n",
       "        text-align: right;\n",
       "    }\n",
       "</style>\n",
       "<table border=\"1\" class=\"dataframe\">\n",
       "  <thead>\n",
       "    <tr style=\"text-align: right;\">\n",
       "      <th></th>\n",
       "      <th>client_id</th>\n",
       "      <th>app_date</th>\n",
       "      <th>education</th>\n",
       "      <th>sex</th>\n",
       "      <th>age</th>\n",
       "      <th>car</th>\n",
       "      <th>car_type</th>\n",
       "      <th>decline_app_cnt</th>\n",
       "      <th>good_work</th>\n",
       "      <th>score_bki</th>\n",
       "      <th>bki_request_cnt</th>\n",
       "      <th>region_rating</th>\n",
       "      <th>home_address</th>\n",
       "      <th>work_address</th>\n",
       "      <th>income</th>\n",
       "      <th>sna</th>\n",
       "      <th>first_time</th>\n",
       "      <th>foreign_passport</th>\n",
       "      <th>default</th>\n",
       "      <th>sample</th>\n",
       "    </tr>\n",
       "  </thead>\n",
       "  <tbody>\n",
       "    <tr>\n",
       "      <th>0</th>\n",
       "      <td>25905</td>\n",
       "      <td>01FEB2014</td>\n",
       "      <td>SCH</td>\n",
       "      <td>1</td>\n",
       "      <td>62</td>\n",
       "      <td>1</td>\n",
       "      <td>1</td>\n",
       "      <td>0</td>\n",
       "      <td>0</td>\n",
       "      <td>-2.008753</td>\n",
       "      <td>1</td>\n",
       "      <td>50</td>\n",
       "      <td>1</td>\n",
       "      <td>2</td>\n",
       "      <td>18000</td>\n",
       "      <td>4</td>\n",
       "      <td>1</td>\n",
       "      <td>0</td>\n",
       "      <td>0</td>\n",
       "      <td>1</td>\n",
       "    </tr>\n",
       "    <tr>\n",
       "      <th>1</th>\n",
       "      <td>63161</td>\n",
       "      <td>12MAR2014</td>\n",
       "      <td>SCH</td>\n",
       "      <td>0</td>\n",
       "      <td>59</td>\n",
       "      <td>0</td>\n",
       "      <td>0</td>\n",
       "      <td>0</td>\n",
       "      <td>0</td>\n",
       "      <td>-1.532276</td>\n",
       "      <td>3</td>\n",
       "      <td>50</td>\n",
       "      <td>2</td>\n",
       "      <td>3</td>\n",
       "      <td>19000</td>\n",
       "      <td>4</td>\n",
       "      <td>1</td>\n",
       "      <td>0</td>\n",
       "      <td>0</td>\n",
       "      <td>1</td>\n",
       "    </tr>\n",
       "    <tr>\n",
       "      <th>2</th>\n",
       "      <td>25887</td>\n",
       "      <td>01FEB2014</td>\n",
       "      <td>SCH</td>\n",
       "      <td>1</td>\n",
       "      <td>25</td>\n",
       "      <td>1</td>\n",
       "      <td>0</td>\n",
       "      <td>2</td>\n",
       "      <td>0</td>\n",
       "      <td>-1.408142</td>\n",
       "      <td>1</td>\n",
       "      <td>80</td>\n",
       "      <td>1</td>\n",
       "      <td>2</td>\n",
       "      <td>30000</td>\n",
       "      <td>1</td>\n",
       "      <td>4</td>\n",
       "      <td>1</td>\n",
       "      <td>0</td>\n",
       "      <td>1</td>\n",
       "    </tr>\n",
       "    <tr>\n",
       "      <th>3</th>\n",
       "      <td>16222</td>\n",
       "      <td>23JAN2014</td>\n",
       "      <td>SCH</td>\n",
       "      <td>0</td>\n",
       "      <td>53</td>\n",
       "      <td>0</td>\n",
       "      <td>0</td>\n",
       "      <td>0</td>\n",
       "      <td>0</td>\n",
       "      <td>-2.057471</td>\n",
       "      <td>2</td>\n",
       "      <td>50</td>\n",
       "      <td>2</td>\n",
       "      <td>3</td>\n",
       "      <td>10000</td>\n",
       "      <td>1</td>\n",
       "      <td>3</td>\n",
       "      <td>0</td>\n",
       "      <td>0</td>\n",
       "      <td>1</td>\n",
       "    </tr>\n",
       "    <tr>\n",
       "      <th>4</th>\n",
       "      <td>101655</td>\n",
       "      <td>18APR2014</td>\n",
       "      <td>GRD</td>\n",
       "      <td>1</td>\n",
       "      <td>48</td>\n",
       "      <td>0</td>\n",
       "      <td>0</td>\n",
       "      <td>0</td>\n",
       "      <td>1</td>\n",
       "      <td>-1.244723</td>\n",
       "      <td>1</td>\n",
       "      <td>60</td>\n",
       "      <td>2</td>\n",
       "      <td>3</td>\n",
       "      <td>30000</td>\n",
       "      <td>1</td>\n",
       "      <td>4</td>\n",
       "      <td>1</td>\n",
       "      <td>0</td>\n",
       "      <td>1</td>\n",
       "    </tr>\n",
       "  </tbody>\n",
       "</table>\n",
       "</div>"
      ],
      "text/plain": [
       "   client_id   app_date education  sex  age  car  car_type  decline_app_cnt  \\\n",
       "0      25905  01FEB2014       SCH    1   62    1         1                0   \n",
       "1      63161  12MAR2014       SCH    0   59    0         0                0   \n",
       "2      25887  01FEB2014       SCH    1   25    1         0                2   \n",
       "3      16222  23JAN2014       SCH    0   53    0         0                0   \n",
       "4     101655  18APR2014       GRD    1   48    0         0                0   \n",
       "\n",
       "   good_work  score_bki  bki_request_cnt  region_rating  home_address  \\\n",
       "0          0  -2.008753                1             50             1   \n",
       "1          0  -1.532276                3             50             2   \n",
       "2          0  -1.408142                1             80             1   \n",
       "3          0  -2.057471                2             50             2   \n",
       "4          1  -1.244723                1             60             2   \n",
       "\n",
       "   work_address  income  sna  first_time  foreign_passport  default  sample  \n",
       "0             2   18000    4           1                 0        0       1  \n",
       "1             3   19000    4           1                 0        0       1  \n",
       "2             2   30000    1           4                 1        0       1  \n",
       "3             3   10000    1           3                 0        0       1  \n",
       "4             3   30000    1           4                 1        0       1  "
      ]
     },
     "execution_count": 43,
     "metadata": {},
     "output_type": "execute_result"
    }
   ],
   "source": [
    "label_encoder = LabelEncoder()\n",
    "\n",
    "for column in bin_cols:\n",
    "    df[column] = label_encoder.fit_transform(df[column])\n",
    "    \n",
    "# убедимся в преобразовании    \n",
    "df.head()"
   ]
  },
  {
   "cell_type": "markdown",
   "id": "economic-congo",
   "metadata": {},
   "source": [
    "education кодируем в цифру."
   ]
  },
  {
   "cell_type": "code",
   "execution_count": 44,
   "id": "selected-benefit",
   "metadata": {},
   "outputs": [],
   "source": [
    "def code_education(string):\n",
    "    if string == \"SCH\": return 0\n",
    "    elif string == \"GRD\": return 1\n",
    "    elif string == \"UGR\": return 2\n",
    "    elif string == \"PGR\": return 3\n",
    "    elif string == \"ACD\": return 4\n",
    "    else: return 5 #на случай \"а вдруг пропуски или новые ззначения?\"\" \n",
    "\n",
    "df['education'] = df['education'].apply(code_education)"
   ]
  },
  {
   "cell_type": "code",
   "execution_count": 45,
   "id": "lonely-millennium",
   "metadata": {},
   "outputs": [
    {
     "data": {
      "text/plain": [
       "0    57998\n",
       "1    34768\n",
       "2    14748\n",
       "3     1865\n",
       "5      478\n",
       "4      291\n",
       "Name: education, dtype: int64"
      ]
     },
     "execution_count": 45,
     "metadata": {},
     "output_type": "execute_result"
    }
   ],
   "source": [
    "df.education.value_counts()"
   ]
  },
  {
   "cell_type": "markdown",
   "id": "intellectual-weapon",
   "metadata": {},
   "source": [
    "Извлекем максимум информации из app_date"
   ]
  },
  {
   "cell_type": "code",
   "execution_count": 46,
   "id": "smooth-entrepreneur",
   "metadata": {},
   "outputs": [],
   "source": [
    "df['app_date'] = pd.to_datetime(df.app_date)"
   ]
  },
  {
   "cell_type": "code",
   "execution_count": 47,
   "id": "known-mechanics",
   "metadata": {
    "scrolled": false
   },
   "outputs": [
    {
     "data": {
      "text/html": [
       "<div>\n",
       "<style scoped>\n",
       "    .dataframe tbody tr th:only-of-type {\n",
       "        vertical-align: middle;\n",
       "    }\n",
       "\n",
       "    .dataframe tbody tr th {\n",
       "        vertical-align: top;\n",
       "    }\n",
       "\n",
       "    .dataframe thead th {\n",
       "        text-align: right;\n",
       "    }\n",
       "</style>\n",
       "<table border=\"1\" class=\"dataframe\">\n",
       "  <thead>\n",
       "    <tr style=\"text-align: right;\">\n",
       "      <th></th>\n",
       "      <th>client_id</th>\n",
       "      <th>app_date</th>\n",
       "      <th>education</th>\n",
       "      <th>sex</th>\n",
       "      <th>age</th>\n",
       "      <th>car</th>\n",
       "      <th>car_type</th>\n",
       "      <th>decline_app_cnt</th>\n",
       "      <th>good_work</th>\n",
       "      <th>score_bki</th>\n",
       "      <th>...</th>\n",
       "      <th>region_rating</th>\n",
       "      <th>home_address</th>\n",
       "      <th>work_address</th>\n",
       "      <th>income</th>\n",
       "      <th>sna</th>\n",
       "      <th>first_time</th>\n",
       "      <th>foreign_passport</th>\n",
       "      <th>default</th>\n",
       "      <th>sample</th>\n",
       "      <th>weekday</th>\n",
       "    </tr>\n",
       "  </thead>\n",
       "  <tbody>\n",
       "    <tr>\n",
       "      <th>0</th>\n",
       "      <td>25905</td>\n",
       "      <td>2014-02-01</td>\n",
       "      <td>0</td>\n",
       "      <td>1</td>\n",
       "      <td>62</td>\n",
       "      <td>1</td>\n",
       "      <td>1</td>\n",
       "      <td>0</td>\n",
       "      <td>0</td>\n",
       "      <td>-2.008753</td>\n",
       "      <td>...</td>\n",
       "      <td>50</td>\n",
       "      <td>1</td>\n",
       "      <td>2</td>\n",
       "      <td>18000</td>\n",
       "      <td>4</td>\n",
       "      <td>1</td>\n",
       "      <td>0</td>\n",
       "      <td>0</td>\n",
       "      <td>1</td>\n",
       "      <td>5</td>\n",
       "    </tr>\n",
       "    <tr>\n",
       "      <th>1</th>\n",
       "      <td>63161</td>\n",
       "      <td>2014-03-12</td>\n",
       "      <td>0</td>\n",
       "      <td>0</td>\n",
       "      <td>59</td>\n",
       "      <td>0</td>\n",
       "      <td>0</td>\n",
       "      <td>0</td>\n",
       "      <td>0</td>\n",
       "      <td>-1.532276</td>\n",
       "      <td>...</td>\n",
       "      <td>50</td>\n",
       "      <td>2</td>\n",
       "      <td>3</td>\n",
       "      <td>19000</td>\n",
       "      <td>4</td>\n",
       "      <td>1</td>\n",
       "      <td>0</td>\n",
       "      <td>0</td>\n",
       "      <td>1</td>\n",
       "      <td>2</td>\n",
       "    </tr>\n",
       "    <tr>\n",
       "      <th>2</th>\n",
       "      <td>25887</td>\n",
       "      <td>2014-02-01</td>\n",
       "      <td>0</td>\n",
       "      <td>1</td>\n",
       "      <td>25</td>\n",
       "      <td>1</td>\n",
       "      <td>0</td>\n",
       "      <td>2</td>\n",
       "      <td>0</td>\n",
       "      <td>-1.408142</td>\n",
       "      <td>...</td>\n",
       "      <td>80</td>\n",
       "      <td>1</td>\n",
       "      <td>2</td>\n",
       "      <td>30000</td>\n",
       "      <td>1</td>\n",
       "      <td>4</td>\n",
       "      <td>1</td>\n",
       "      <td>0</td>\n",
       "      <td>1</td>\n",
       "      <td>5</td>\n",
       "    </tr>\n",
       "    <tr>\n",
       "      <th>3</th>\n",
       "      <td>16222</td>\n",
       "      <td>2014-01-23</td>\n",
       "      <td>0</td>\n",
       "      <td>0</td>\n",
       "      <td>53</td>\n",
       "      <td>0</td>\n",
       "      <td>0</td>\n",
       "      <td>0</td>\n",
       "      <td>0</td>\n",
       "      <td>-2.057471</td>\n",
       "      <td>...</td>\n",
       "      <td>50</td>\n",
       "      <td>2</td>\n",
       "      <td>3</td>\n",
       "      <td>10000</td>\n",
       "      <td>1</td>\n",
       "      <td>3</td>\n",
       "      <td>0</td>\n",
       "      <td>0</td>\n",
       "      <td>1</td>\n",
       "      <td>3</td>\n",
       "    </tr>\n",
       "    <tr>\n",
       "      <th>4</th>\n",
       "      <td>101655</td>\n",
       "      <td>2014-04-18</td>\n",
       "      <td>1</td>\n",
       "      <td>1</td>\n",
       "      <td>48</td>\n",
       "      <td>0</td>\n",
       "      <td>0</td>\n",
       "      <td>0</td>\n",
       "      <td>1</td>\n",
       "      <td>-1.244723</td>\n",
       "      <td>...</td>\n",
       "      <td>60</td>\n",
       "      <td>2</td>\n",
       "      <td>3</td>\n",
       "      <td>30000</td>\n",
       "      <td>1</td>\n",
       "      <td>4</td>\n",
       "      <td>1</td>\n",
       "      <td>0</td>\n",
       "      <td>1</td>\n",
       "      <td>4</td>\n",
       "    </tr>\n",
       "  </tbody>\n",
       "</table>\n",
       "<p>5 rows × 21 columns</p>\n",
       "</div>"
      ],
      "text/plain": [
       "   client_id   app_date  education  sex  age  car  car_type  decline_app_cnt  \\\n",
       "0      25905 2014-02-01          0    1   62    1         1                0   \n",
       "1      63161 2014-03-12          0    0   59    0         0                0   \n",
       "2      25887 2014-02-01          0    1   25    1         0                2   \n",
       "3      16222 2014-01-23          0    0   53    0         0                0   \n",
       "4     101655 2014-04-18          1    1   48    0         0                0   \n",
       "\n",
       "   good_work  score_bki  ...  region_rating  home_address  work_address  \\\n",
       "0          0  -2.008753  ...             50             1             2   \n",
       "1          0  -1.532276  ...             50             2             3   \n",
       "2          0  -1.408142  ...             80             1             2   \n",
       "3          0  -2.057471  ...             50             2             3   \n",
       "4          1  -1.244723  ...             60             2             3   \n",
       "\n",
       "   income  sna  first_time  foreign_passport  default  sample  weekday  \n",
       "0   18000    4           1                 0        0       1        5  \n",
       "1   19000    4           1                 0        0       1        2  \n",
       "2   30000    1           4                 1        0       1        5  \n",
       "3   10000    1           3                 0        0       1        3  \n",
       "4   30000    1           4                 1        0       1        4  \n",
       "\n",
       "[5 rows x 21 columns]"
      ]
     },
     "execution_count": 47,
     "metadata": {},
     "output_type": "execute_result"
    }
   ],
   "source": [
    "df['weekday'] = df.app_date.apply(lambda x: x.weekday())\n",
    "#df['day'] = df.app_date.apply(lambda x: x.day)\n",
    "#df['month'] = df.app_date.apply(lambda x: x.month)\n",
    "#df['year'] = df.app_date.apply(lambda x: x.year)\n",
    "\n",
    "df.head()"
   ]
  },
  {
   "cell_type": "code",
   "execution_count": 48,
   "id": "continuing-failure",
   "metadata": {},
   "outputs": [],
   "source": [
    "# Логарифмирование \"хвостатых переменных\" среди численных\n",
    "num_cols_tails = ['income', 'decline_app_cnt', 'bki_request_cnt']\n",
    "\n",
    "for col in num_cols_tails:\n",
    "    df[col] = np.log(df[col] + 1)"
   ]
  },
  {
   "cell_type": "code",
   "execution_count": 49,
   "id": "united-twelve",
   "metadata": {},
   "outputs": [],
   "source": [
    "# Стандартизация численных переменных\n",
    "df[num_cols] = pd.DataFrame(StandardScaler().fit_transform(df[num_cols]),\n",
    "                              columns=num_cols)"
   ]
  },
  {
   "cell_type": "code",
   "execution_count": 50,
   "id": "african-project",
   "metadata": {},
   "outputs": [],
   "source": [
    "# обработка категориальных признаков\n",
    "#cat_cols = ['education', 'home_address','work_address', 'region_rating', 'sna', 'first_time']\n",
    "df = pd.get_dummies(df, columns=cat_cols)"
   ]
  },
  {
   "cell_type": "code",
   "execution_count": 51,
   "id": "electoral-recorder",
   "metadata": {},
   "outputs": [
    {
     "data": {
      "text/plain": [
       "['education', 'home_address', 'work_address', 'sna', 'first_time']"
      ]
     },
     "execution_count": 51,
     "metadata": {},
     "output_type": "execute_result"
    }
   ],
   "source": [
    "cat_cols"
   ]
  },
  {
   "cell_type": "markdown",
   "id": "sensitive-debut",
   "metadata": {},
   "source": [
    "### 3. Наивная модель"
   ]
  },
  {
   "cell_type": "markdown",
   "id": "opposed-pregnancy",
   "metadata": {},
   "source": [
    "Разделим обратно на train и test"
   ]
  },
  {
   "cell_type": "code",
   "execution_count": 52,
   "id": "handmade-threat",
   "metadata": {},
   "outputs": [],
   "source": [
    "df_train = df.query('sample == 1').drop(['sample'], axis=1)\n",
    "df_test = df.query('sample == 0').drop(['sample'], axis=1)"
   ]
  },
  {
   "cell_type": "code",
   "execution_count": 53,
   "id": "lyric-allocation",
   "metadata": {},
   "outputs": [],
   "source": [
    "X = df_train.drop(columns=['default', 'client_id', 'app_date'])\n",
    "y = df_train['default']"
   ]
  },
  {
   "cell_type": "markdown",
   "id": "flying-delta",
   "metadata": {},
   "source": [
    "Построим модель логистической регрессии"
   ]
  },
  {
   "cell_type": "code",
   "execution_count": 54,
   "id": "graphic-memorial",
   "metadata": {},
   "outputs": [
    {
     "name": "stdout",
     "output_type": "stream",
     "text": [
      "accuracy_score:  0.8731255645889793\n",
      "f1_score:  0.044232732221844165\n",
      "recall_score:  0.023381294964028777\n",
      "MSE:  0.12687443541102078\n",
      "roc_auc_score:  0.7352145824662585\n"
     ]
    }
   ],
   "source": [
    "model = LogisticRegression(max_iter = 1000)\n",
    "model.fit(X, y)\n",
    "\n",
    "train_model(model, X, y)"
   ]
  },
  {
   "cell_type": "markdown",
   "id": "answering-namibia",
   "metadata": {},
   "source": [
    "Здравствуй undersampling...\n",
    "\n",
    "А теперь проверим качество модели на сбалансированных данных"
   ]
  },
  {
   "cell_type": "code",
   "execution_count": 55,
   "id": "applicable-stocks",
   "metadata": {},
   "outputs": [
    {
     "data": {
      "text/plain": [
       "0    64427\n",
       "1     9372\n",
       "Name: default, dtype: int64"
      ]
     },
     "execution_count": 55,
     "metadata": {},
     "output_type": "execute_result"
    }
   ],
   "source": [
    "df_train.default.value_counts()\n"
   ]
  },
  {
   "cell_type": "code",
   "execution_count": 56,
   "id": "renewable-subscriber",
   "metadata": {},
   "outputs": [],
   "source": [
    "df_train_1= df_train[df_train.default == 1]\n",
    "df_train_0= df_train[df_train.default == 0]\n",
    "df_train_01= df_train[:9372]\n",
    "\n",
    "frames = [df_train_01, df_train_1]\n",
    "\n",
    "df_train_undersampling = pd.concat(frames)"
   ]
  },
  {
   "cell_type": "code",
   "execution_count": 57,
   "id": "major-amplifier",
   "metadata": {},
   "outputs": [],
   "source": [
    "X = df_train_undersampling.drop(columns=['default', 'client_id', 'app_date','weekday'])\n",
    "y = df_train_undersampling['default']"
   ]
  },
  {
   "cell_type": "code",
   "execution_count": 58,
   "id": "arbitrary-collaboration",
   "metadata": {},
   "outputs": [
    {
     "name": "stdout",
     "output_type": "stream",
     "text": [
      "accuracy_score:  0.6749644381223329\n",
      "f1_score:  0.7266746411483253\n",
      "recall_score:  0.7675300063171194\n",
      "MSE:  0.32503556187766713\n",
      "roc_auc_score:  0.7322295679223976\n"
     ]
    }
   ],
   "source": [
    "model = LogisticRegression(max_iter = 2000)\n",
    "model.fit(X, y)\n",
    "\n",
    "train_model(model, X, y)"
   ]
  },
  {
   "cell_type": "markdown",
   "id": "running-import",
   "metadata": {},
   "source": [
    "Модель начала обучаться и показывает неплохие результаты.\n",
    " \n",
    "Посмотрим на значимость "
   ]
  },
  {
   "cell_type": "code",
   "execution_count": 78,
   "id": "sporting-rwanda",
   "metadata": {
    "scrolled": true
   },
   "outputs": [
    {
     "data": {
      "text/plain": [
       "<AxesSubplot:>"
      ]
     },
     "execution_count": 78,
     "metadata": {},
     "output_type": "execute_result"
    },
    {
     "data": {
      "image/png": "[encoded data removed]",
      "text/plain": [
       "<Figure size 432x288 with 1 Axes>"
      ]
     },
     "metadata": {
      "needs_background": "light"
     },
     "output_type": "display_data"
    }
   ],
   "source": [
    "imp_cat = Series(mutual_info_classif(df_train_undersampling[bin_cols], df_train_undersampling['default'],\n",
    "                                     discrete_features =True), index = bin_cols)\n",
    "imp_cat.sort_values(inplace = True)\n",
    "imp_cat.plot(kind = 'barh')\n",
    "\n"
   ]
  },
  {
   "cell_type": "code",
   "execution_count": 60,
   "id": "approximate-article",
   "metadata": {},
   "outputs": [],
   "source": [
    "df_test = df_test.drop(columns=['default', 'client_id', 'app_date','weekday'])"
   ]
  },
  {
   "cell_type": "code",
   "execution_count": 61,
   "id": "italic-romantic",
   "metadata": {},
   "outputs": [
    {
     "data": {
      "text/html": [
       "<div>\n",
       "<style scoped>\n",
       "    .dataframe tbody tr th:only-of-type {\n",
       "        vertical-align: middle;\n",
       "    }\n",
       "\n",
       "    .dataframe tbody tr th {\n",
       "        vertical-align: top;\n",
       "    }\n",
       "\n",
       "    .dataframe thead th {\n",
       "        text-align: right;\n",
       "    }\n",
       "</style>\n",
       "<table border=\"1\" class=\"dataframe\">\n",
       "  <thead>\n",
       "    <tr style=\"text-align: right;\">\n",
       "      <th></th>\n",
       "      <th>sex</th>\n",
       "      <th>age</th>\n",
       "      <th>car</th>\n",
       "      <th>car_type</th>\n",
       "      <th>decline_app_cnt</th>\n",
       "      <th>good_work</th>\n",
       "      <th>score_bki</th>\n",
       "      <th>bki_request_cnt</th>\n",
       "      <th>region_rating</th>\n",
       "      <th>income</th>\n",
       "      <th>...</th>\n",
       "      <th>work_address_2</th>\n",
       "      <th>work_address_3</th>\n",
       "      <th>sna_1</th>\n",
       "      <th>sna_2</th>\n",
       "      <th>sna_3</th>\n",
       "      <th>sna_4</th>\n",
       "      <th>first_time_1</th>\n",
       "      <th>first_time_2</th>\n",
       "      <th>first_time_3</th>\n",
       "      <th>first_time_4</th>\n",
       "    </tr>\n",
       "  </thead>\n",
       "  <tbody>\n",
       "    <tr>\n",
       "      <th>73799</th>\n",
       "      <td>1</td>\n",
       "      <td>-0.889859</td>\n",
       "      <td>1</td>\n",
       "      <td>1</td>\n",
       "      <td>-0.418815</td>\n",
       "      <td>0</td>\n",
       "      <td>-0.735587</td>\n",
       "      <td>0.770563</td>\n",
       "      <td>-0.516704</td>\n",
       "      <td>0.680425</td>\n",
       "      <td>...</td>\n",
       "      <td>1</td>\n",
       "      <td>0</td>\n",
       "      <td>1</td>\n",
       "      <td>0</td>\n",
       "      <td>0</td>\n",
       "      <td>0</td>\n",
       "      <td>0</td>\n",
       "      <td>0</td>\n",
       "      <td>0</td>\n",
       "      <td>1</td>\n",
       "    </tr>\n",
       "    <tr>\n",
       "      <th>73800</th>\n",
       "      <td>0</td>\n",
       "      <td>-0.021654</td>\n",
       "      <td>0</td>\n",
       "      <td>0</td>\n",
       "      <td>4.539989</td>\n",
       "      <td>0</td>\n",
       "      <td>0.800039</td>\n",
       "      <td>0.333797</td>\n",
       "      <td>-0.516704</td>\n",
       "      <td>-2.624624</td>\n",
       "      <td>...</td>\n",
       "      <td>1</td>\n",
       "      <td>0</td>\n",
       "      <td>0</td>\n",
       "      <td>0</td>\n",
       "      <td>0</td>\n",
       "      <td>1</td>\n",
       "      <td>0</td>\n",
       "      <td>0</td>\n",
       "      <td>1</td>\n",
       "      <td>0</td>\n",
       "    </tr>\n",
       "    <tr>\n",
       "      <th>73801</th>\n",
       "      <td>1</td>\n",
       "      <td>0.933372</td>\n",
       "      <td>1</td>\n",
       "      <td>1</td>\n",
       "      <td>-0.418815</td>\n",
       "      <td>0</td>\n",
       "      <td>0.426908</td>\n",
       "      <td>-0.281790</td>\n",
       "      <td>-0.516704</td>\n",
       "      <td>-0.052834</td>\n",
       "      <td>...</td>\n",
       "      <td>1</td>\n",
       "      <td>0</td>\n",
       "      <td>1</td>\n",
       "      <td>0</td>\n",
       "      <td>0</td>\n",
       "      <td>0</td>\n",
       "      <td>0</td>\n",
       "      <td>0</td>\n",
       "      <td>1</td>\n",
       "      <td>0</td>\n",
       "    </tr>\n",
       "    <tr>\n",
       "      <th>73802</th>\n",
       "      <td>1</td>\n",
       "      <td>1.454295</td>\n",
       "      <td>0</td>\n",
       "      <td>0</td>\n",
       "      <td>-0.418815</td>\n",
       "      <td>0</td>\n",
       "      <td>-0.940432</td>\n",
       "      <td>-0.281790</td>\n",
       "      <td>-1.282058</td>\n",
       "      <td>-0.868125</td>\n",
       "      <td>...</td>\n",
       "      <td>1</td>\n",
       "      <td>0</td>\n",
       "      <td>1</td>\n",
       "      <td>0</td>\n",
       "      <td>0</td>\n",
       "      <td>0</td>\n",
       "      <td>0</td>\n",
       "      <td>0</td>\n",
       "      <td>1</td>\n",
       "      <td>0</td>\n",
       "    </tr>\n",
       "    <tr>\n",
       "      <th>73803</th>\n",
       "      <td>0</td>\n",
       "      <td>-0.108474</td>\n",
       "      <td>0</td>\n",
       "      <td>0</td>\n",
       "      <td>-0.418815</td>\n",
       "      <td>0</td>\n",
       "      <td>-1.167347</td>\n",
       "      <td>-1.334144</td>\n",
       "      <td>1.779355</td>\n",
       "      <td>1.937123</td>\n",
       "      <td>...</td>\n",
       "      <td>0</td>\n",
       "      <td>1</td>\n",
       "      <td>1</td>\n",
       "      <td>0</td>\n",
       "      <td>0</td>\n",
       "      <td>0</td>\n",
       "      <td>0</td>\n",
       "      <td>0</td>\n",
       "      <td>1</td>\n",
       "      <td>0</td>\n",
       "    </tr>\n",
       "    <tr>\n",
       "      <th>...</th>\n",
       "      <td>...</td>\n",
       "      <td>...</td>\n",
       "      <td>...</td>\n",
       "      <td>...</td>\n",
       "      <td>...</td>\n",
       "      <td>...</td>\n",
       "      <td>...</td>\n",
       "      <td>...</td>\n",
       "      <td>...</td>\n",
       "      <td>...</td>\n",
       "      <td>...</td>\n",
       "      <td>...</td>\n",
       "      <td>...</td>\n",
       "      <td>...</td>\n",
       "      <td>...</td>\n",
       "      <td>...</td>\n",
       "      <td>...</td>\n",
       "      <td>...</td>\n",
       "      <td>...</td>\n",
       "      <td>...</td>\n",
       "      <td>...</td>\n",
       "    </tr>\n",
       "    <tr>\n",
       "      <th>110143</th>\n",
       "      <td>0</td>\n",
       "      <td>-0.195295</td>\n",
       "      <td>0</td>\n",
       "      <td>0</td>\n",
       "      <td>1.499512</td>\n",
       "      <td>0</td>\n",
       "      <td>0.319505</td>\n",
       "      <td>0.770563</td>\n",
       "      <td>-0.516704</td>\n",
       "      <td>-1.047783</td>\n",
       "      <td>...</td>\n",
       "      <td>0</td>\n",
       "      <td>1</td>\n",
       "      <td>0</td>\n",
       "      <td>0</td>\n",
       "      <td>0</td>\n",
       "      <td>1</td>\n",
       "      <td>1</td>\n",
       "      <td>0</td>\n",
       "      <td>0</td>\n",
       "      <td>0</td>\n",
       "    </tr>\n",
       "    <tr>\n",
       "      <th>110144</th>\n",
       "      <td>0</td>\n",
       "      <td>2.148860</td>\n",
       "      <td>1</td>\n",
       "      <td>1</td>\n",
       "      <td>-0.418815</td>\n",
       "      <td>0</td>\n",
       "      <td>-0.779436</td>\n",
       "      <td>0.770563</td>\n",
       "      <td>0.248649</td>\n",
       "      <td>2.670397</td>\n",
       "      <td>...</td>\n",
       "      <td>1</td>\n",
       "      <td>0</td>\n",
       "      <td>1</td>\n",
       "      <td>0</td>\n",
       "      <td>0</td>\n",
       "      <td>0</td>\n",
       "      <td>0</td>\n",
       "      <td>0</td>\n",
       "      <td>0</td>\n",
       "      <td>1</td>\n",
       "    </tr>\n",
       "    <tr>\n",
       "      <th>110145</th>\n",
       "      <td>1</td>\n",
       "      <td>-0.716218</td>\n",
       "      <td>0</td>\n",
       "      <td>0</td>\n",
       "      <td>2.621662</td>\n",
       "      <td>0</td>\n",
       "      <td>1.929901</td>\n",
       "      <td>-0.281790</td>\n",
       "      <td>-0.516704</td>\n",
       "      <td>0.942139</td>\n",
       "      <td>...</td>\n",
       "      <td>1</td>\n",
       "      <td>0</td>\n",
       "      <td>0</td>\n",
       "      <td>0</td>\n",
       "      <td>0</td>\n",
       "      <td>1</td>\n",
       "      <td>0</td>\n",
       "      <td>1</td>\n",
       "      <td>0</td>\n",
       "      <td>0</td>\n",
       "    </tr>\n",
       "    <tr>\n",
       "      <th>110146</th>\n",
       "      <td>0</td>\n",
       "      <td>-1.063501</td>\n",
       "      <td>0</td>\n",
       "      <td>0</td>\n",
       "      <td>1.499512</td>\n",
       "      <td>0</td>\n",
       "      <td>1.325890</td>\n",
       "      <td>0.333797</td>\n",
       "      <td>1.779355</td>\n",
       "      <td>-0.052834</td>\n",
       "      <td>...</td>\n",
       "      <td>0</td>\n",
       "      <td>1</td>\n",
       "      <td>1</td>\n",
       "      <td>0</td>\n",
       "      <td>0</td>\n",
       "      <td>0</td>\n",
       "      <td>1</td>\n",
       "      <td>0</td>\n",
       "      <td>0</td>\n",
       "      <td>0</td>\n",
       "    </tr>\n",
       "    <tr>\n",
       "      <th>110147</th>\n",
       "      <td>1</td>\n",
       "      <td>-0.108474</td>\n",
       "      <td>0</td>\n",
       "      <td>0</td>\n",
       "      <td>-0.418815</td>\n",
       "      <td>0</td>\n",
       "      <td>0.794933</td>\n",
       "      <td>0.333797</td>\n",
       "      <td>-0.516704</td>\n",
       "      <td>-1.047783</td>\n",
       "      <td>...</td>\n",
       "      <td>1</td>\n",
       "      <td>0</td>\n",
       "      <td>0</td>\n",
       "      <td>0</td>\n",
       "      <td>0</td>\n",
       "      <td>1</td>\n",
       "      <td>0</td>\n",
       "      <td>1</td>\n",
       "      <td>0</td>\n",
       "      <td>0</td>\n",
       "    </tr>\n",
       "  </tbody>\n",
       "</table>\n",
       "<p>36349 rows × 31 columns</p>\n",
       "</div>"
      ],
      "text/plain": [
       "        sex       age  car  car_type  decline_app_cnt  good_work  score_bki  \\\n",
       "73799     1 -0.889859    1         1        -0.418815          0  -0.735587   \n",
       "73800     0 -0.021654    0         0         4.539989          0   0.800039   \n",
       "73801     1  0.933372    1         1        -0.418815          0   0.426908   \n",
       "73802     1  1.454295    0         0        -0.418815          0  -0.940432   \n",
       "73803     0 -0.108474    0         0        -0.418815          0  -1.167347   \n",
       "...     ...       ...  ...       ...              ...        ...        ...   \n",
       "110143    0 -0.195295    0         0         1.499512          0   0.319505   \n",
       "110144    0  2.148860    1         1        -0.418815          0  -0.779436   \n",
       "110145    1 -0.716218    0         0         2.621662          0   1.929901   \n",
       "110146    0 -1.063501    0         0         1.499512          0   1.325890   \n",
       "110147    1 -0.108474    0         0        -0.418815          0   0.794933   \n",
       "\n",
       "        bki_request_cnt  region_rating    income  ...  work_address_2  \\\n",
       "73799          0.770563      -0.516704  0.680425  ...               1   \n",
       "73800          0.333797      -0.516704 -2.624624  ...               1   \n",
       "73801         -0.281790      -0.516704 -0.052834  ...               1   \n",
       "73802         -0.281790      -1.282058 -0.868125  ...               1   \n",
       "73803         -1.334144       1.779355  1.937123  ...               0   \n",
       "...                 ...            ...       ...  ...             ...   \n",
       "110143         0.770563      -0.516704 -1.047783  ...               0   \n",
       "110144         0.770563       0.248649  2.670397  ...               1   \n",
       "110145        -0.281790      -0.516704  0.942139  ...               1   \n",
       "110146         0.333797       1.779355 -0.052834  ...               0   \n",
       "110147         0.333797      -0.516704 -1.047783  ...               1   \n",
       "\n",
       "        work_address_3  sna_1  sna_2  sna_3  sna_4  first_time_1  \\\n",
       "73799                0      1      0      0      0             0   \n",
       "73800                0      0      0      0      1             0   \n",
       "73801                0      1      0      0      0             0   \n",
       "73802                0      1      0      0      0             0   \n",
       "73803                1      1      0      0      0             0   \n",
       "...                ...    ...    ...    ...    ...           ...   \n",
       "110143               1      0      0      0      1             1   \n",
       "110144               0      1      0      0      0             0   \n",
       "110145               0      0      0      0      1             0   \n",
       "110146               1      1      0      0      0             1   \n",
       "110147               0      0      0      0      1             0   \n",
       "\n",
       "        first_time_2  first_time_3  first_time_4  \n",
       "73799              0             0             1  \n",
       "73800              0             1             0  \n",
       "73801              0             1             0  \n",
       "73802              0             1             0  \n",
       "73803              0             1             0  \n",
       "...              ...           ...           ...  \n",
       "110143             0             0             0  \n",
       "110144             0             0             1  \n",
       "110145             1             0             0  \n",
       "110146             0             0             0  \n",
       "110147             1             0             0  \n",
       "\n",
       "[36349 rows x 31 columns]"
      ]
     },
     "execution_count": 61,
     "metadata": {},
     "output_type": "execute_result"
    }
   ],
   "source": [
    "df_test"
   ]
  },
  {
   "cell_type": "code",
   "execution_count": 62,
   "id": "express-george",
   "metadata": {
    "scrolled": true
   },
   "outputs": [
    {
     "name": "stdout",
     "output_type": "stream",
     "text": [
      "<class 'pandas.core.frame.DataFrame'>\n",
      "Int64Index: 36349 entries, 73799 to 110147\n",
      "Data columns (total 31 columns):\n",
      " #   Column            Non-Null Count  Dtype  \n",
      "---  ------            --------------  -----  \n",
      " 0   sex               36349 non-null  int64  \n",
      " 1   age               36349 non-null  float64\n",
      " 2   car               36349 non-null  int64  \n",
      " 3   car_type          36349 non-null  int64  \n",
      " 4   decline_app_cnt   36349 non-null  float64\n",
      " 5   good_work         36349 non-null  int64  \n",
      " 6   score_bki         36349 non-null  float64\n",
      " 7   bki_request_cnt   36349 non-null  float64\n",
      " 8   region_rating     36349 non-null  float64\n",
      " 9   income            36349 non-null  float64\n",
      " 10  foreign_passport  36349 non-null  int64  \n",
      " 11  education_0       36349 non-null  uint8  \n",
      " 12  education_1       36349 non-null  uint8  \n",
      " 13  education_2       36349 non-null  uint8  \n",
      " 14  education_3       36349 non-null  uint8  \n",
      " 15  education_4       36349 non-null  uint8  \n",
      " 16  education_5       36349 non-null  uint8  \n",
      " 17  home_address_1    36349 non-null  uint8  \n",
      " 18  home_address_2    36349 non-null  uint8  \n",
      " 19  home_address_3    36349 non-null  uint8  \n",
      " 20  work_address_1    36349 non-null  uint8  \n",
      " 21  work_address_2    36349 non-null  uint8  \n",
      " 22  work_address_3    36349 non-null  uint8  \n",
      " 23  sna_1             36349 non-null  uint8  \n",
      " 24  sna_2             36349 non-null  uint8  \n",
      " 25  sna_3             36349 non-null  uint8  \n",
      " 26  sna_4             36349 non-null  uint8  \n",
      " 27  first_time_1      36349 non-null  uint8  \n",
      " 28  first_time_2      36349 non-null  uint8  \n",
      " 29  first_time_3      36349 non-null  uint8  \n",
      " 30  first_time_4      36349 non-null  uint8  \n",
      "dtypes: float64(6), int64(5), uint8(20)\n",
      "memory usage: 4.0 MB\n"
     ]
    }
   ],
   "source": [
    "df_test.info()\n"
   ]
  },
  {
   "cell_type": "code",
   "execution_count": 63,
   "id": "floating-boating",
   "metadata": {},
   "outputs": [],
   "source": [
    "probs = model.predict_proba(df_test) # залем результаты на кагл. посчитаем текущий рейтинг\n"
   ]
  },
  {
   "cell_type": "code",
   "execution_count": 64,
   "id": "faced-massachusetts",
   "metadata": {},
   "outputs": [],
   "source": [
    "submission = pd.DataFrame(probs)"
   ]
  },
  {
   "cell_type": "code",
   "execution_count": 65,
   "id": "mature-mumbai",
   "metadata": {},
   "outputs": [],
   "source": [
    "sub = pd.DataFrame({'client_id': df.query('sample == 0').drop(['sample'], axis=1).client_id.to_list(), \n",
    "                    'default': submission[1].to_list()})\n",
    "sub.to_csv('sub4.csv', index=False)"
   ]
  },
  {
   "cell_type": "markdown",
   "id": "painted-convert",
   "metadata": {},
   "source": [
    "### 4. Гиперпараметры\n"
   ]
  },
  {
   "cell_type": "code",
   "execution_count": 80,
   "id": "immediate-section",
   "metadata": {},
   "outputs": [],
   "source": [
    "# разделяем на тренеровочные и валидационные данные\n",
    "X_train, X_valid, y_train, y_valid = train_test_split(\n",
    "    X, y, test_size=0.2, random_state=42, shuffle=True)"
   ]
  },
  {
   "cell_type": "code",
   "execution_count": 81,
   "id": "invisible-single",
   "metadata": {},
   "outputs": [
    {
     "name": "stdout",
     "output_type": "stream",
     "text": [
      "Лучшее Penalty: l1\n",
      "Лучшее C: 464.15888336127773\n"
     ]
    }
   ],
   "source": [
    "# Подбор лучших гиперпараметров для модели\n",
    "\n",
    "from sklearn.model_selection import GridSearchCV\n",
    "\n",
    "# Добавим типы регуляризации\n",
    "penalty = ['l1', 'l2']\n",
    "\n",
    "# Зададим ограничения для параметра регуляризации\n",
    "C = np.logspace(0, 4, 10)\n",
    "\n",
    "# Создадим гиперпараметры\n",
    "hyperparameters = dict(C=C, penalty=penalty)\n",
    "\n",
    "model = LogisticRegression(solver = 'liblinear', max_iter = 2000)\n",
    "model.fit(X_train, y_train)\n",
    "y_pred = model.predict(X_valid)\n",
    "\n",
    "# Создаем сетку поиска с использованием 5-кратной перекрестной проверки\n",
    "clf = GridSearchCV(model, hyperparameters, cv=5, verbose=0)\n",
    "\n",
    "best_model = clf.fit(X_train, y_train)\n",
    "\n",
    "print('Лучшее Penalty:', best_model.best_estimator_.get_params()['penalty'])\n",
    "print('Лучшее C:', best_model.best_estimator_.get_params()['C'])"
   ]
  },
  {
   "cell_type": "code",
   "execution_count": 82,
   "id": "liable-alarm",
   "metadata": {},
   "outputs": [
    {
     "data": {
      "text/plain": [
       "LogisticRegression(C=464.15888336127773, class_weight='balanced', max_iter=2000,\n",
       "                   penalty='l1', solver='liblinear')"
      ]
     },
     "execution_count": 82,
     "metadata": {},
     "output_type": "execute_result"
    }
   ],
   "source": [
    "# описываем и обучаем модель\n",
    "model = LogisticRegression(\n",
    "    C=464.15888336127773,\n",
    "    class_weight='balanced',\n",
    "    dual=False,\n",
    "    fit_intercept=True,\n",
    "    intercept_scaling=1,\n",
    "    l1_ratio=None,\n",
    "    multi_class='auto',\n",
    "    n_jobs=None,\n",
    "    penalty='l1',\n",
    "    solver='liblinear',\n",
    "    verbose=0,\n",
    "    max_iter=2000)\n",
    "\n",
    "model.fit(X_train, y_train)"
   ]
  },
  {
   "cell_type": "code",
   "execution_count": 83,
   "id": "physical-storage",
   "metadata": {},
   "outputs": [],
   "source": [
    "# предсказываем значения валидационной базы\n",
    "probs = model.predict_proba(df_test)"
   ]
  },
  {
   "cell_type": "code",
   "execution_count": 84,
   "id": "measured-blind",
   "metadata": {},
   "outputs": [],
   "source": [
    "submission = pd.DataFrame(probs)"
   ]
  },
  {
   "cell_type": "code",
   "execution_count": 85,
   "id": "private-health",
   "metadata": {},
   "outputs": [],
   "source": [
    "sub = pd.DataFrame({'client_id': df.query('sample == 0').drop(['sample'], axis=1).client_id.to_list(), \n",
    "                    'default': submission[1].to_list()})\n",
    "sub.to_csv('sub5.csv', index=False)"
   ]
  }
 ],
 "metadata": {
  "kernelspec": {
   "display_name": "Python 3",
   "language": "python",
   "name": "python3"
  },
  "language_info": {
   "codemirror_mode": {
    "name": "ipython",
    "version": 3
   },
   "file_extension": ".py",
   "mimetype": "text/x-python",
   "name": "python",
   "nbconvert_exporter": "python",
   "pygments_lexer": "ipython3",
   "version": "3.7.9"
  }
 },
 "nbformat": 4,
 "nbformat_minor": 5
}
